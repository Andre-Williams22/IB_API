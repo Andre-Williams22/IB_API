{
 "cells": [
  {
   "cell_type": "markdown",
   "metadata": {},
   "source": [
    "## Class "
   ]
  },
  {
   "cell_type": "code",
   "execution_count": 12,
   "metadata": {},
   "outputs": [],
   "source": [
    "class Employee:\n",
    "    \n",
    "    def __init__(self, name, exp, dept):\n",
    "        \n",
    "        self.name = name \n",
    "        self.exp = exp \n",
    "        self.dept = dept \n",
    "        \n",
    "        \n",
    "    def calcSalary(self):\n",
    "        \n",
    "        if self.exp > 5 and self.dept == 'Engineering':\n",
    "            self.salary = 200000\n",
    "        else:\n",
    "            self.salary = 80000\n",
    "            \n",
    "    def empDesc(self):\n",
    "        print(\"Employee {} from {} department has worked with us for {} years\".format(self.name, self.dept, self.exp))"
   ]
  },
  {
   "cell_type": "code",
   "execution_count": 16,
   "metadata": {},
   "outputs": [],
   "source": [
    "emp1 = Employee('Jack', 7, 'Engineering')"
   ]
  },
  {
   "cell_type": "code",
   "execution_count": 17,
   "metadata": {},
   "outputs": [
    {
     "name": "stdout",
     "output_type": "stream",
     "text": [
      "Employee Jack from Engineering department has worked with us for 7 years\n"
     ]
    },
    {
     "data": {
      "text/plain": [
       "200000"
      ]
     },
     "execution_count": 17,
     "metadata": {},
     "output_type": "execute_result"
    }
   ],
   "source": [
    "emp1.calcSalary()\n",
    "emp1.empDesc()\n",
    "emp1.salary"
   ]
  },
  {
   "cell_type": "markdown",
   "metadata": {},
   "source": [
    "## Inheritance\n",
    "\n",
    "Pass properties of one class into another "
   ]
  },
  {
   "cell_type": "code",
   "execution_count": 36,
   "metadata": {},
   "outputs": [],
   "source": [
    "class subEmployee(Employee):\n",
    "    \n",
    "    def __init__(self, name, exp, dept, sub_id=10):\n",
    "        # grabs init from parent class\n",
    "        super(subEmployee, self).__init__(name, exp, dept)\n",
    "        # adds new property for this class\n",
    "        self.sub_id = sub_id\n",
    "#         print(\"Employee {} is created for subsidiary {}\".format(dept))\n",
    "#         print(\"Hello\" + sub_id)\n",
    "    # want to change method as a new salary method thats diff from prev class\n",
    "    def calcSalary(self):\n",
    "        self.salary = min(max(1, self.exp) * 2000, 200000)\n",
    "        \n",
    "        "
   ]
  },
  {
   "cell_type": "code",
   "execution_count": 37,
   "metadata": {},
   "outputs": [
    {
     "name": "stdout",
     "output_type": "stream",
     "text": [
      "Employee James from Engineering department has worked with us for 1 years\n"
     ]
    }
   ],
   "source": [
    "james = subEmployee('James', 1, 'Engineering')\n",
    "james.empDesc()"
   ]
  },
  {
   "cell_type": "code",
   "execution_count": null,
   "metadata": {},
   "outputs": [],
   "source": []
  }
 ],
 "metadata": {
  "kernelspec": {
   "display_name": "Python 3",
   "language": "python",
   "name": "python3"
  },
  "language_info": {
   "codemirror_mode": {
    "name": "ipython",
    "version": 3
   },
   "file_extension": ".py",
   "mimetype": "text/x-python",
   "name": "python",
   "nbconvert_exporter": "python",
   "pygments_lexer": "ipython3",
   "version": "3.8.5"
  }
 },
 "nbformat": 4,
 "nbformat_minor": 4
}
